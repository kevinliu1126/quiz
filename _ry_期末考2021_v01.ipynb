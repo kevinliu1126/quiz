{
  "nbformat": 4,
  "nbformat_minor": 0,
  "metadata": {
    "colab": {
      "name": "_ry_期末考2021_v01",
      "provenance": [],
      "collapsed_sections": [],
      "include_colab_link": true
    },
    "kernelspec": {
      "name": "python3",
      "display_name": "Python 3"
    },
    "language_info": {
      "name": "python"
    }
  },
  "cells": [
    {
      "cell_type": "markdown",
      "metadata": {
        "id": "view-in-github",
        "colab_type": "text"
      },
      "source": [
        "<a href=\"https://colab.research.google.com/github/kevinliu1126/quiz/blob/main/_ry_%E6%9C%9F%E6%9C%AB%E8%80%832021_v01.ipynb\" target=\"_parent\"><img src=\"https://colab.research.google.com/assets/colab-badge.svg\" alt=\"Open In Colab\"/></a>"
      ]
    },
    {
      "cell_type": "markdown",
      "metadata": {
        "id": "1l8i6ab_FTEj"
      },
      "source": [
        "# 期末考題 2021\n",
        "## 長庚大學 資工系 @ 2021/06/22\n",
        "- by 呂仁園老師\n",
        "\n",
        "----\n",
        "# 1. \n",
        "考試時間 2021/06/22， 10:10~ 12:30，\n",
        "\n",
        "# 2. \n",
        "嚴禁同學間互相抄襲，若有抄襲情形，【抄襲者】與【被抄襲者】皆為0分。請不要害別人，也保護自己不被別人害！\n",
        "\n",
        "# 3. \n",
        "答案 以 【pdf】 檔案 上傳 【Elearning】 之 \n",
        "【評量區】//【作業/報告】//【正式期末考專區】\n",
        "\n",
        "# 4. \n",
        "pdf 應含所撰寫之程式(.ipynb) 之 Colab 或 Github 連結，可讓老師或助教直接點擊該連結即可觀看程式。\n",
        "\n",
        "\n",
        "# 5. \n",
        "答題須寫推論或計算過程，若有Python程式碼，應完全列出指令。\n",
        "\n",
        "# 6.\n",
        "題目共 20 小題，每題 5%"
      ]
    },
    {
      "cell_type": "markdown",
      "metadata": {
        "id": "NHD5j7tnM5CD"
      },
      "source": [
        "#[Q1]\n",
        "\n",
        "$n$ 個獨立且分布相同的隨機變數 \n",
        "$\n",
        "X_1,\\ X_2, …. X_n\n",
        "$\n",
        "它們有共同的\n",
        "\n",
        "期望值: $E(X_i)=μ$, \n",
        "\n",
        "標準差: $Std(X_i)=σ$, \n",
        "\n",
        "----\n",
        "$\\bar{X}$ , $S^2$ \n",
        "\n",
        "分別代表它們的【樣本平均數】以及【樣本變異數】。數學公式定義如下：\n",
        "\n",
        "$\n",
        "\\bar{X}=\\frac{1}{n}\\sum_{i=1}^{n}X_i\n",
        "\\\\\n",
        "S^2=\\frac{1}{n-1}\\sum_{i=1}^{n}\\left(X_i-\\bar{X}\\right)^2\n",
        "$\n",
        "\n",
        "----\n",
        "令 統計量 $T$ 代表 樣本平均$\\bar{X}$ 與母體平均$μ$ 之間的【正規距離】(scaled distance)，數學公式定義如下：\n",
        "\n",
        "$\n",
        "T=\\frac{\\ \\bar{X}-\\mu}{S/\\sqrt{n}}\n",
        "$\n",
        "\n",
        "----\n",
        "\n",
        "\n",
        "令 n = 10,  μ= 5,  σ=2，\n",
        "請回答以下問題\n",
        "\n",
        "1. \n",
        "$\n",
        "\tE\\left(\\bar{X}\\right)=\\ ?\n",
        "$\n",
        "\n",
        "1. \n",
        "$\n",
        "\tE\\left(S^2\\right)=\\ ?\n",
        "$\n",
        "\n",
        "1. \n",
        "$\n",
        "\tE\\left(T\\right)=\\ ?\n",
        "$\n",
        "\n",
        "1. \n",
        "$\n",
        "\tVar\\left(\\bar{X}\\right)=\\ ?\n",
        "$\n",
        "\n",
        "1. \n",
        "$\n",
        "\tVar\\left(S^2\\right)=\\ ?\n",
        "$\n",
        "\n",
        "1. \n",
        "$\n",
        "\tVar\\left(T\\right)=\\ ?\n",
        "$\n",
        "\n",
        "1. \n",
        "$\n",
        "\t\\bar{X} 的 機率密度函數  f_{\\bar{X}}\\left(x\\right)=?\n",
        "$\n",
        "\n",
        "1. \n",
        "$\n",
        "\tS^2 的機率密度函數 f_{S^2}\\left(q\\right)=?\n",
        "$\n",
        "\n",
        "1. \n",
        "$\n",
        "\tT 的 機率密度函數  f_T\\left(t\\right)=?\n",
        "$\n",
        "\n",
        "1. \n",
        "$\n",
        "\tP\\left(4\\le\\bar{X}\\le6\\right)=?\n",
        "$\n",
        "\n",
        "1. \n",
        "$\n",
        "\tP\\left(3\\le S^2\\le5\\right)=?\n",
        "$\n",
        "\n",
        "1. \n",
        "$\n",
        "\tP\\left(-1\\le T\\le1\\right)=?\n",
        "$\n",
        "\n",
        "1. \n",
        "$\n",
        "\t若 P\\left( x_1\\le\\bar{X}\\le x_2\\right)=95\\%，那麼(x_1, x_2)=?\n",
        "$\n",
        "\n",
        "1. \n",
        "$\n",
        "\t若 P\\left(q_1\\le S^2\\le\\ q_2\\right)=95\\%，那麼 (q_1, q_2) = ?\n",
        "$\n",
        "\n",
        "1. \n",
        "$\n",
        "\t若 P\\left(t_1\\le T\\le t_2\\right)= 95\\%，那麼 (t_1, t_2)=?\n",
        "$\n",
        "\n",
        "\n"
      ]
    },
    {
      "cell_type": "markdown",
      "metadata": {
        "id": "ret3QoyQM4FM"
      },
      "source": [
        "首先，引入必要的模組"
      ]
    },
    {
      "cell_type": "code",
      "metadata": {
        "id": "xMK4shCLFqHb"
      },
      "source": [
        "import numpy      as np\n",
        "import scipy.special  as sp\n",
        "import scipy.stats   as st\n",
        "import pandas      as pd\n",
        "import math\n",
        "\n",
        "\n",
        "n= 10 \n",
        "μ= 5\n",
        "σ= 2\n",
        "  "
      ],
      "execution_count": 54,
      "outputs": []
    },
    {
      "cell_type": "markdown",
      "metadata": {
        "id": "0IBnpscPHcPR"
      },
      "source": [
        "1. \n",
        "$\n",
        "\tE\\left(\\bar{X}\\right)=\\ ?\n",
        "$\n"
      ]
    },
    {
      "cell_type": "code",
      "metadata": {
        "id": "xqJSMaHkIFad",
        "colab": {
          "base_uri": "https://localhost:8080/"
        },
        "outputId": "1370338e-fb11-4f74-ec4a-8e682b1cb70a"
      },
      "source": [
        "#(1)\n",
        "#E(x_bar)=μ\n",
        "print(μ)"
      ],
      "execution_count": 32,
      "outputs": [
        {
          "output_type": "stream",
          "text": [
            "5\n"
          ],
          "name": "stdout"
        }
      ]
    },
    {
      "cell_type": "markdown",
      "metadata": {
        "id": "sOdBob9eHfwJ"
      },
      "source": [
        "\n",
        "2. \n",
        "$\n",
        "\tE\\left(S^2\\right)=\\ ?\n",
        "$\n"
      ]
    },
    {
      "cell_type": "code",
      "metadata": {
        "id": "SKLdfF4VIPLJ",
        "colab": {
          "base_uri": "https://localhost:8080/"
        },
        "outputId": "a5297e54-d64c-47e5-8f29-3ff3ff3e8eb1"
      },
      "source": [
        "#(2)\n",
        "#E(s^2)=σ^2\n",
        "print(σ*σ)"
      ],
      "execution_count": 33,
      "outputs": [
        {
          "output_type": "stream",
          "text": [
            "4\n"
          ],
          "name": "stdout"
        }
      ]
    },
    {
      "cell_type": "markdown",
      "metadata": {
        "id": "jEMhYdIJHiXS"
      },
      "source": [
        "\n",
        "3. \n",
        "$\n",
        "\tE\\left(T\\right)=\\ ?\n",
        "$\n"
      ]
    },
    {
      "cell_type": "code",
      "metadata": {
        "id": "AdOA_04RIQpy",
        "colab": {
          "base_uri": "https://localhost:8080/"
        },
        "outputId": "adc1d418-9ed7-4f10-cd39-3f40e3fa9cd5"
      },
      "source": [
        "#(3)\n",
        "print(0)"
      ],
      "execution_count": 34,
      "outputs": [
        {
          "output_type": "stream",
          "text": [
            "0\n"
          ],
          "name": "stdout"
        }
      ]
    },
    {
      "cell_type": "markdown",
      "metadata": {
        "id": "4Zd3Bn2tHnJR"
      },
      "source": [
        "\n",
        "4. \n",
        "$\n",
        "\tVar\\left(\\bar{X}\\right)=\\ ?\n",
        "$\n"
      ]
    },
    {
      "cell_type": "code",
      "metadata": {
        "id": "0Lz06ItVIRj6",
        "colab": {
          "base_uri": "https://localhost:8080/"
        },
        "outputId": "0562b2dd-12bc-4076-9e33-3c79d651aa4e"
      },
      "source": [
        "#(4)\n",
        "print(σ*σ/n)"
      ],
      "execution_count": 35,
      "outputs": [
        {
          "output_type": "stream",
          "text": [
            "0.4\n"
          ],
          "name": "stdout"
        }
      ]
    },
    {
      "cell_type": "markdown",
      "metadata": {
        "id": "dqB7nq1vHoih"
      },
      "source": [
        "\n",
        "5. \n",
        "$\n",
        "\tVar\\left(S^2\\right)=\\ ?\n",
        "$\n"
      ]
    },
    {
      "cell_type": "code",
      "metadata": {
        "id": "mA2XFMcqISsk",
        "colab": {
          "base_uri": "https://localhost:8080/"
        },
        "outputId": "7f91c7ae-a5ec-4554-fb50-29642e154599"
      },
      "source": [
        "#(5)\n",
        "print((2*(σ**4))/(n-1))"
      ],
      "execution_count": 55,
      "outputs": [
        {
          "output_type": "stream",
          "text": [
            "3.5555555555555554\n"
          ],
          "name": "stdout"
        }
      ]
    },
    {
      "cell_type": "markdown",
      "metadata": {
        "id": "8WgBr2DMHpwS"
      },
      "source": [
        "\n",
        "6. \n",
        "$\n",
        "\tVar\\left(T\\right)=\\ ?\n",
        "$\n"
      ]
    },
    {
      "cell_type": "code",
      "metadata": {
        "id": "FldyobqHIThq",
        "colab": {
          "base_uri": "https://localhost:8080/"
        },
        "outputId": "19800c3c-c824-470c-d725-cfced79e1ae0"
      },
      "source": [
        "#(6)\n",
        "#var(T)=V/V-2\n",
        "#V=n-1\n",
        "print((n-1)/(n-3))"
      ],
      "execution_count": 37,
      "outputs": [
        {
          "output_type": "stream",
          "text": [
            "1.2857142857142858\n"
          ],
          "name": "stdout"
        }
      ]
    },
    {
      "cell_type": "markdown",
      "metadata": {
        "id": "DurEWYdyHq_p"
      },
      "source": [
        "\n",
        "7. \n",
        "$\n",
        "\t\\bar{X} 的 機率密度函數  f_{\\bar{X}}\\left(x\\right)=?\n",
        "$\n"
      ]
    },
    {
      "cell_type": "code",
      "metadata": {
        "id": "n_7Bj5SVIUlU",
        "colab": {
          "base_uri": "https://localhost:8080/"
        },
        "outputId": "a93afe6e-5d88-47c0-a75e-3a4b12f75ad5"
      },
      "source": [
        "#(7)\n",
        "print(\"(math.exp(-((x-μ)**2)/(2*σ**2)))/(σ*((2*math.pi)**0.5))\")"
      ],
      "execution_count": 103,
      "outputs": [
        {
          "output_type": "stream",
          "text": [
            "(math.exp(-((x-μ)**2)/(2*σ**2)))/(σ*((2*math.pi)**0.5))\n"
          ],
          "name": "stdout"
        }
      ]
    },
    {
      "cell_type": "markdown",
      "metadata": {
        "id": "KOM9Sq3EHsOx"
      },
      "source": [
        "\n",
        "8. \n",
        "$\n",
        "\tS^2 的機率密度函數 f_{S^2}\\left(q\\right)=?\n",
        "$\n"
      ]
    },
    {
      "cell_type": "code",
      "metadata": {
        "id": "O-0Am5PyIVmd"
      },
      "source": [
        "#(8)"
      ],
      "execution_count": 39,
      "outputs": []
    },
    {
      "cell_type": "markdown",
      "metadata": {
        "id": "qGhigiiUAqvt"
      },
      "source": [
        "![S__19980291.jpg](data:image/jpeg;base64,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)"
      ]
    },
    {
      "cell_type": "markdown",
      "metadata": {
        "id": "GT3Ya54PHteJ"
      },
      "source": [
        "\n",
        "9. \n",
        "$\n",
        "\tT 的 機率密度函數  f_T\\left(t\\right)=?\n",
        "$\n"
      ]
    },
    {
      "cell_type": "code",
      "metadata": {
        "id": "9fkx-8cIIE10",
        "colab": {
          "base_uri": "https://localhost:8080/"
        },
        "outputId": "97eae1e2-bead-4c8e-fb32-e14109d27bfa"
      },
      "source": [
        "#(9)\n",
        "print(\"(1+t**2/9)**(-0.5*n)\")"
      ],
      "execution_count": 81,
      "outputs": [
        {
          "output_type": "stream",
          "text": [
            "(1+t**2/9)**(-0.5*n)\n"
          ],
          "name": "stdout"
        }
      ]
    },
    {
      "cell_type": "markdown",
      "metadata": {
        "id": "HW8EfHSRHurd"
      },
      "source": [
        "\n",
        "10. \n",
        "$\n",
        "\tP\\left(4\\le\\bar{X}\\le6\\right)=?\n",
        "$\n"
      ]
    },
    {
      "cell_type": "code",
      "metadata": {
        "id": "f--b36SNIXmp",
        "colab": {
          "base_uri": "https://localhost:8080/"
        },
        "outputId": "d42c4cbc-1586-4a0f-a608-55c4ed75b0cc"
      },
      "source": [
        "#(10)\n",
        "st.norm.cdf(x=6,loc=μ,scale=σ/n**.5)-st.norm.cdf(x=4,loc=μ,scale=σ/n**.5)"
      ],
      "execution_count": 96,
      "outputs": [
        {
          "output_type": "execute_result",
          "data": {
            "text/plain": [
              "0.8861537019933419"
            ]
          },
          "metadata": {
            "tags": []
          },
          "execution_count": 96
        }
      ]
    },
    {
      "cell_type": "markdown",
      "metadata": {
        "id": "5CNXCGRiHvxN"
      },
      "source": [
        "\n",
        "11. \n",
        "$\n",
        "\tP\\left(3\\le S^2\\le5\\right)=?\n",
        "$\n"
      ]
    },
    {
      "cell_type": "code",
      "metadata": {
        "id": "JrqTTcALIY0a",
        "colab": {
          "base_uri": "https://localhost:8080/"
        },
        "outputId": "bc92242c-3d73-44ac-87c8-d54d0a80f719"
      },
      "source": [
        "#(11)\n",
        "st.chi2.cdf(5,df=n-1)-st.chi2.cdf(3,df=n-1)"
      ],
      "execution_count": 93,
      "outputs": [
        {
          "output_type": "execute_result",
          "data": {
            "text/plain": [
              "0.12998671249168164"
            ]
          },
          "metadata": {
            "tags": []
          },
          "execution_count": 93
        }
      ]
    },
    {
      "cell_type": "markdown",
      "metadata": {
        "id": "1dRf2CDMHw90"
      },
      "source": [
        "\n",
        "12. \n",
        "$\n",
        "\tP\\left(-1\\le T\\le1\\right)=?\n",
        "$\n"
      ]
    },
    {
      "cell_type": "code",
      "metadata": {
        "id": "PFxQFU9PIZop",
        "colab": {
          "base_uri": "https://localhost:8080/"
        },
        "outputId": "fe403c12-8ade-4ecc-8384-b6a97aff1961"
      },
      "source": [
        "#(12)\n",
        "v=n-1\n",
        "prob=st.t.cdf(1,df=v)-st.t.cdf(-1,df=v)\n",
        "print(prob)"
      ],
      "execution_count": 79,
      "outputs": [
        {
          "output_type": "execute_result",
          "data": {
            "text/plain": [
              "0.6565636038620863"
            ]
          },
          "metadata": {
            "tags": []
          },
          "execution_count": 79
        }
      ]
    },
    {
      "cell_type": "markdown",
      "metadata": {
        "id": "GON6jLUMHyDy"
      },
      "source": [
        "\n",
        "13. \n",
        "$\n",
        "\t若 P\\left( x_1\\le\\bar{X}\\le x_2\\right)=95\\%，那麼(x_1, x_2)=?\n",
        "$\n"
      ]
    },
    {
      "cell_type": "code",
      "metadata": {
        "id": "LxIBvURrIaiy",
        "colab": {
          "base_uri": "https://localhost:8080/"
        },
        "outputId": "5dff5f54-c11c-4a28-ef03-92ab3e4b77bc"
      },
      "source": [
        "#(13)\n",
        "st.norm.interval(0.95,μ,σ/(n**.5))"
      ],
      "execution_count": 85,
      "outputs": [
        {
          "output_type": "execute_result",
          "data": {
            "text/plain": [
              "(3.760409935390877, 6.239590064609123)"
            ]
          },
          "metadata": {
            "tags": []
          },
          "execution_count": 85
        }
      ]
    },
    {
      "cell_type": "markdown",
      "metadata": {
        "id": "c7VR0hk7HzRF"
      },
      "source": [
        "\n",
        "14. \n",
        "$\n",
        "\t若 P\\left(q_1\\le S^2\\le\\ q_2\\right)=95\\%，那麼 (q_1, q_2) = ?\n",
        "$\n"
      ]
    },
    {
      "cell_type": "code",
      "metadata": {
        "id": "EFlvxALjNEaA",
        "colab": {
          "base_uri": "https://localhost:8080/"
        },
        "outputId": "c3d96818-53a0-4368-f160-0f5ee42eca48"
      },
      "source": [
        "#(14)\n",
        "#19.02和2.7為查卡方值表得到的\n",
        "q1=(n-1)*(σ**2)/19.02\n",
        "q2=(n-1)*(σ**2)/2.7\n",
        "(q1,q2)"
      ],
      "execution_count": 102,
      "outputs": [
        {
          "output_type": "execute_result",
          "data": {
            "text/plain": [
              "(1.8927444794952681, 13.333333333333332)"
            ]
          },
          "metadata": {
            "tags": []
          },
          "execution_count": 102
        }
      ]
    },
    {
      "cell_type": "markdown",
      "metadata": {
        "id": "F8AtCF7nH0eC"
      },
      "source": [
        "\n",
        "15. \n",
        "$\n",
        "\t若 P\\left(t_1\\le T\\le t_2\\right)= 95\\%，那麼 (t_1, t_2)=?\n",
        "$"
      ]
    },
    {
      "cell_type": "code",
      "metadata": {
        "id": "33NBIpemHTJP",
        "colab": {
          "base_uri": "https://localhost:8080/"
        },
        "outputId": "44e14bb8-c938-44f8-d4aa-f5e580ff1fea"
      },
      "source": [
        "#(15)\n",
        "st.t.interval(.95,df=n-1)"
      ],
      "execution_count": 82,
      "outputs": [
        {
          "output_type": "execute_result",
          "data": {
            "text/plain": [
              "(-2.2621571627409915, 2.2621571627409915)"
            ]
          },
          "metadata": {
            "tags": []
          },
          "execution_count": 82
        }
      ]
    },
    {
      "cell_type": "markdown",
      "metadata": {
        "id": "vKD93gF61SFS"
      },
      "source": [
        "#[Q2]\n",
        "\n",
        "某大學於某年做了學生身高資料普查，學生總數N為 10000人，全體學生身高平均數μ= 159.8cm，標準差σ = 9.9 cm，資料分布約略如下圖：(橫坐標為身高cm、縱坐標為學生人數)\n"
      ]
    },
    {
      "cell_type": "code",
      "metadata": {
        "id": "xWPelhY8FqpS",
        "colab": {
          "base_uri": "https://localhost:8080/",
          "height": 416
        },
        "outputId": "bbfa57fc-f523-429b-ce73-1968d375d0b5"
      },
      "source": [
        "# 針對某大學全體學生做了一次身高普查，學生總數 N= 10000\n",
        "# 普查資料 存放在 X \n",
        "\n",
        "# 先以模擬方式製造一堆 (size= 10000) 符合此種分布的實驗數據\n",
        "\n",
        "np.random.seed(0)\n",
        "X= st.norm.rvs(size=10000, loc= 160, scale=10)\n",
        "\n",
        "# 畫出 分布圖，\n",
        "# 並觀察母體平均數 mu= E(X)=μ== 159.8, \n",
        "# 以及 標準差 sigma= Std(X)=σ== 9.9\n",
        "\n",
        "X= pd.Series(X)\n",
        "X.hist(bins= 100, grid=True)\n",
        "X.describe().round(1)\n"
      ],
      "execution_count": 40,
      "outputs": [
        {
          "output_type": "execute_result",
          "data": {
            "text/plain": [
              "count    10000.0\n",
              "mean       159.8\n",
              "std          9.9\n",
              "min        122.6\n",
              "25%        153.1\n",
              "50%        159.7\n",
              "75%        166.5\n",
              "max        198.0\n",
              "dtype: float64"
            ]
          },
          "metadata": {
            "tags": []
          },
          "execution_count": 40
        },
        {
          "output_type": "display_data",
          "data": {
            "image/png": "[encoded data removed]",
            "text/plain": [
              "<Figure size 432x288 with 1 Axes>"
            ]
          },
          "metadata": {
            "tags": [],
            "needs_background": "light"
          }
        }
      ]
    },
    {
      "cell_type": "markdown",
      "metadata": {
        "id": "ZsMVmx6H12Ss"
      },
      "source": [
        "某同學自己在好朋友之間 (10人) 做了一個調查，得到結果如下：\n",
        "\n"
      ]
    },
    {
      "cell_type": "code",
      "metadata": {
        "id": "9zfLpBwhFqwy",
        "colab": {
          "base_uri": "https://localhost:8080/",
          "height": 80
        },
        "outputId": "aa52e1ce-7ce8-49bb-feed-83497e9e0c87"
      },
      "source": [
        "# 某位本課程的學生作了一個小實驗，\n",
        "# 他隨機調查了 n=10 位同學 的身高資料\n",
        "np.random.seed(0)\n",
        "smpSize= 10\n",
        "smpX= X.sample(n= smpSize)\n",
        "smpX.round(1)\n",
        "aDF= pd.DataFrame(smpX,columns=['身高(cm)'])\n",
        "aDF.index.name='學號'\n",
        "aDF.T.round(1)\n"
      ],
      "execution_count": 41,
      "outputs": [
        {
          "output_type": "execute_result",
          "data": {
            "text/html": [
              "<div>\n",
              "<style scoped>\n",
              "    .dataframe tbody tr th:only-of-type {\n",
              "        vertical-align: middle;\n",
              "    }\n",
              "\n",
              "    .dataframe tbody tr th {\n",
              "        vertical-align: top;\n",
              "    }\n",
              "\n",
              "    .dataframe thead th {\n",
              "        text-align: right;\n",
              "    }\n",
              "</style>\n",
              "<table border=\"1\" class=\"dataframe\">\n",
              "  <thead>\n",
              "    <tr style=\"text-align: right;\">\n",
              "      <th>學號</th>\n",
              "      <th>9394</th>\n",
              "      <th>898</th>\n",
              "      <th>2398</th>\n",
              "      <th>5906</th>\n",
              "      <th>2343</th>\n",
              "      <th>8225</th>\n",
              "      <th>5506</th>\n",
              "      <th>6451</th>\n",
              "      <th>2670</th>\n",
              "      <th>3497</th>\n",
              "    </tr>\n",
              "  </thead>\n",
              "  <tbody>\n",
              "    <tr>\n",
              "      <th>身高(cm)</th>\n",
              "      <td>147.6</td>\n",
              "      <td>185.9</td>\n",
              "      <td>154.0</td>\n",
              "      <td>147.2</td>\n",
              "      <td>168.6</td>\n",
              "      <td>146.8</td>\n",
              "      <td>162.6</td>\n",
              "      <td>164.1</td>\n",
              "      <td>152.2</td>\n",
              "      <td>171.8</td>\n",
              "    </tr>\n",
              "  </tbody>\n",
              "</table>\n",
              "</div>"
            ],
            "text/plain": [
              "學號       9394   898    2398   5906   2343   8225   5506   6451   2670   3497\n",
              "身高(cm)  147.6  185.9  154.0  147.2  168.6  146.8  162.6  164.1  152.2  171.8"
            ]
          },
          "metadata": {
            "tags": []
          },
          "execution_count": 41
        }
      ]
    },
    {
      "cell_type": "markdown",
      "metadata": {
        "id": "hBk7XHvx2Y14"
      },
      "source": [
        "根據以上調查結果(10人之身高)，此位同學自行運用機率統計課程所學，搭配 Python 之統計計算模組，可以估計出以下結論\n",
        "\n",
        "16. 學校全體同學之平均身高μ之估測值 $\\bar{X}$ =?\n",
        "17. 學校全體同學之身高之標準差$σ$之估測值 $S$ =?\n",
        "18. μ 的 95% 信心區間 $(μ_1, μ_2)$ = ？\n"
      ]
    },
    {
      "cell_type": "code",
      "metadata": {
        "id": "XN6DdGTm2Dj8",
        "colab": {
          "base_uri": "https://localhost:8080/"
        },
        "outputId": "3488f134-f179-4332-afb7-a47541cd1664"
      },
      "source": [
        "#(16)\n",
        "import statistics\n",
        "\n",
        "list =  [147.6, 185.9, 154, 147.2, 168.6,146.8, 162.6,164.1,152.2,171.8]\n",
        "str = np.mean(list)\n",
        "print(str)"
      ],
      "execution_count": 42,
      "outputs": [
        {
          "output_type": "stream",
          "text": [
            "160.07999999999998\n"
          ],
          "name": "stdout"
        }
      ]
    },
    {
      "cell_type": "code",
      "metadata": {
        "id": "9FgNVEWm5Kzj",
        "colab": {
          "base_uri": "https://localhost:8080/"
        },
        "outputId": "07dbba28-f474-4eeb-b1a5-484d6206c426"
      },
      "source": [
        "#(17)\n",
        "std=statistics.stdev(list)\n",
        "print(std)"
      ],
      "execution_count": 43,
      "outputs": [
        {
          "output_type": "stream",
          "text": [
            "12.893564286108015\n"
          ],
          "name": "stdout"
        }
      ]
    },
    {
      "cell_type": "code",
      "metadata": {
        "id": "EfFLh7WG5K4L",
        "colab": {
          "base_uri": "https://localhost:8080/"
        },
        "outputId": "1cd96be6-0749-4e42-d0d4-c72e7992d73c"
      },
      "source": [
        "#(18)\n",
        "#μ之95%CI=X±1.96(σ/√n)\n",
        "#μ之95%CI=X±1.96(σ/√n)\n",
        "n=10\n",
        "μ2=str+1.96*(std/n**0.5)\n",
        "μ1=str-1.96*(std/n**0.5)\n",
        "print(μ1,μ2)\n",
        "width1=μ2-μ1"
      ],
      "execution_count": 44,
      "outputs": [
        {
          "output_type": "stream",
          "text": [
            "152.08848606082677 168.0715139391732\n"
          ],
          "name": "stdout"
        }
      ]
    },
    {
      "cell_type": "markdown",
      "metadata": {
        "id": "L3k5nEyj26su"
      },
      "source": [
        "後來，此位同學獲得更多的資料，達到20人之身高資料，新增之資料如下：\n"
      ]
    },
    {
      "cell_type": "code",
      "metadata": {
        "colab": {
          "base_uri": "https://localhost:8080/",
          "height": 80
        },
        "id": "X0sua8kw2Dn1",
        "outputId": "107e2f2a-020c-4ccd-dcb3-4b51f12ecf57"
      },
      "source": [
        "# 這位同學 在另一日額外取得 另 10 位 同學的身高資料\n",
        "# 他把這批資料併入原始資料，成為一份20人的資料，\n",
        "# 重新計算所有統計量並獲得信心區間的重新估測。\n",
        "#\n",
        "smpSize= 20\n",
        "np.random.seed(0) #000\n",
        "smpX= X.sample(n= smpSize)\n",
        "smpX.round(1)\n",
        "aDF= pd.DataFrame(smpX,columns=['身高(cm)'])\n",
        "aDF.index.name='學號'\n",
        "\n",
        "#aDF.round(1)\n",
        "#aDF.T.round(1)\n",
        "\n",
        "# 以下分2列來顯示以利觀看\n",
        "aDF.iloc[:10].T.round(1)"
      ],
      "execution_count": 45,
      "outputs": [
        {
          "output_type": "execute_result",
          "data": {
            "text/html": [
              "<div>\n",
              "<style scoped>\n",
              "    .dataframe tbody tr th:only-of-type {\n",
              "        vertical-align: middle;\n",
              "    }\n",
              "\n",
              "    .dataframe tbody tr th {\n",
              "        vertical-align: top;\n",
              "    }\n",
              "\n",
              "    .dataframe thead th {\n",
              "        text-align: right;\n",
              "    }\n",
              "</style>\n",
              "<table border=\"1\" class=\"dataframe\">\n",
              "  <thead>\n",
              "    <tr style=\"text-align: right;\">\n",
              "      <th>學號</th>\n",
              "      <th>9394</th>\n",
              "      <th>898</th>\n",
              "      <th>2398</th>\n",
              "      <th>5906</th>\n",
              "      <th>2343</th>\n",
              "      <th>8225</th>\n",
              "      <th>5506</th>\n",
              "      <th>6451</th>\n",
              "      <th>2670</th>\n",
              "      <th>3497</th>\n",
              "    </tr>\n",
              "  </thead>\n",
              "  <tbody>\n",
              "    <tr>\n",
              "      <th>身高(cm)</th>\n",
              "      <td>147.6</td>\n",
              "      <td>185.9</td>\n",
              "      <td>154.0</td>\n",
              "      <td>147.2</td>\n",
              "      <td>168.6</td>\n",
              "      <td>146.8</td>\n",
              "      <td>162.6</td>\n",
              "      <td>164.1</td>\n",
              "      <td>152.2</td>\n",
              "      <td>171.8</td>\n",
              "    </tr>\n",
              "  </tbody>\n",
              "</table>\n",
              "</div>"
            ],
            "text/plain": [
              "學號       9394   898    2398   5906   2343   8225   5506   6451   2670   3497\n",
              "身高(cm)  147.6  185.9  154.0  147.2  168.6  146.8  162.6  164.1  152.2  171.8"
            ]
          },
          "metadata": {
            "tags": []
          },
          "execution_count": 45
        }
      ]
    },
    {
      "cell_type": "code",
      "metadata": {
        "colab": {
          "base_uri": "https://localhost:8080/",
          "height": 80
        },
        "id": "n1lPOMD7LWGj",
        "outputId": "daf21dc7-6715-4980-c44a-4a804e16f515"
      },
      "source": [
        "aDF.iloc[10:].T.round(1)"
      ],
      "execution_count": 46,
      "outputs": [
        {
          "output_type": "execute_result",
          "data": {
            "text/html": [
              "<div>\n",
              "<style scoped>\n",
              "    .dataframe tbody tr th:only-of-type {\n",
              "        vertical-align: middle;\n",
              "    }\n",
              "\n",
              "    .dataframe tbody tr th {\n",
              "        vertical-align: top;\n",
              "    }\n",
              "\n",
              "    .dataframe thead th {\n",
              "        text-align: right;\n",
              "    }\n",
              "</style>\n",
              "<table border=\"1\" class=\"dataframe\">\n",
              "  <thead>\n",
              "    <tr style=\"text-align: right;\">\n",
              "      <th>學號</th>\n",
              "      <th>1087</th>\n",
              "      <th>1819</th>\n",
              "      <th>2308</th>\n",
              "      <th>6084</th>\n",
              "      <th>3724</th>\n",
              "      <th>3184</th>\n",
              "      <th>6387</th>\n",
              "      <th>3728</th>\n",
              "      <th>2702</th>\n",
              "      <th>7883</th>\n",
              "    </tr>\n",
              "  </thead>\n",
              "  <tbody>\n",
              "    <tr>\n",
              "      <th>身高(cm)</th>\n",
              "      <td>151.4</td>\n",
              "      <td>152.0</td>\n",
              "      <td>177.1</td>\n",
              "      <td>155.1</td>\n",
              "      <td>159.8</td>\n",
              "      <td>188.0</td>\n",
              "      <td>163.7</td>\n",
              "      <td>178.6</td>\n",
              "      <td>144.0</td>\n",
              "      <td>161.8</td>\n",
              "    </tr>\n",
              "  </tbody>\n",
              "</table>\n",
              "</div>"
            ],
            "text/plain": [
              "學號       1087   1819   2308   6084   3724   3184   6387   3728   2702   7883\n",
              "身高(cm)  151.4  152.0  177.1  155.1  159.8  188.0  163.7  178.6  144.0  161.8"
            ]
          },
          "metadata": {
            "tags": []
          },
          "execution_count": 46
        }
      ]
    },
    {
      "cell_type": "markdown",
      "metadata": {
        "id": "tU4Bnhvs3Yic"
      },
      "source": [
        "19.\t以20人資料重新估算μ的95%信心區間 $(μ_{201}, μ_{202})$=? \n",
        "\n",
        "20.\t以20人的資料估算出來的信心區間 $(μ_{201}, μ_{202})$ 比10人的資料所估算的信心區間 $(μ_1, μ_2)$ 何者寬度較小？(請寫出各自的信心區間寬度) \n"
      ]
    },
    {
      "cell_type": "code",
      "metadata": {
        "id": "Gb8S7znP2Dv4",
        "colab": {
          "base_uri": "https://localhost:8080/"
        },
        "outputId": "22142c9a-3e6e-4fde-817c-5b061fa2a79a"
      },
      "source": [
        "#(19)\n",
        "list =  [147.6, 185.9, 154, 147.2, 168.6,146.8, 162.6,164.1,152.2,171.8,151.4,152,177.1,155.1,159.8,188,163.7,178.6,144,161.8]\n",
        "str = np.mean(list)\n",
        "std=statistics.stdev(list)\n",
        "n=20\n",
        "μ2=str+1.96*(std/n**0.5)\n",
        "μ1=str-1.96*(std/n**0.5)\n",
        "width2=μ2-μ1\n",
        "print(μ1,μ2)"
      ],
      "execution_count": 47,
      "outputs": [
        {
          "output_type": "stream",
          "text": [
            "155.83784914311923 167.39215085688073\n"
          ],
          "name": "stdout"
        }
      ]
    },
    {
      "cell_type": "code",
      "metadata": {
        "id": "weKcxxMg2D0A",
        "colab": {
          "base_uri": "https://localhost:8080/"
        },
        "outputId": "b226eeff-ac7d-43f0-bf60-067ea3224b25"
      },
      "source": [
        "#(20)\n",
        "#20人的寬度較小\n",
        "print(\"width_10:\")\n",
        "print(width1)\n",
        "print(\"width_20:\")\n",
        "print(width2)"
      ],
      "execution_count": 48,
      "outputs": [
        {
          "output_type": "stream",
          "text": [
            "width_10:\n",
            "15.983027878346434\n",
            "width_20:\n",
            "11.554301713761504\n"
          ],
          "name": "stdout"
        }
      ]
    },
    {
      "cell_type": "code",
      "metadata": {
        "id": "Pm908o70yymn"
      },
      "source": [
        "# ----------------- 考題到此為止 ----------------------"
      ],
      "execution_count": null,
      "outputs": []
    }
  ]
}