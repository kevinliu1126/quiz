{
 "cells": [
  {
   "cell_type": "markdown",
   "metadata": {},
   "source": [
    "假設從 2010.01.01 開始，你每個月持續有 USD$1000 資金，\n",
    "(1) 你都不管它，只放在銀行，到了 2020.01.01 你的財產=?\n",
    "(2) 你固定選擇 Apple (AAPL) 公司作為買股票的對象，到了 2020.01.01 你的財產 =?"
   ]
  },
  {
   "cell_type": "code",
   "execution_count": 20,
   "metadata": {},
   "outputs": [
    {
     "name": "stdout",
     "output_type": "stream",
     "text": [
      "140090.77242352368\n"
     ]
    }
   ],
   "source": [
    "#假設年利率為3%\n",
    "bank_total=0\n",
    "for i in range(120):\n",
    "    bank_total=(bank_total+1000)*(1+0.03/12)\n",
    "    \n",
    "print(bank_total)"
   ]
  },
  {
   "cell_type": "code",
   "execution_count": 15,
   "metadata": {},
   "outputs": [
    {
     "name": "stdout",
     "output_type": "stream",
     "text": [
      "                 Open       High        Low      Close  Adj Close       Volume\n",
      "Date                                                                          \n",
      "2010-01-01   7.622500   7.699643   6.794643   6.859286   5.898319  15168994400\n",
      "2010-02-01   6.870357   7.327500   6.816071   7.307857   6.284047  10776080000\n",
      "2010-03-01   7.348214   8.481429   7.337500   8.392857   7.217041  12154172800\n",
      "2010-04-01   8.478929   9.730714   8.312500   9.324643   8.018287  12367129600\n",
      "2010-05-01   9.422857   9.567143   7.116071   9.174286   7.888996  18082654800\n",
      "...               ...        ...        ...        ...        ...          ...\n",
      "2019-09-01  51.607498  56.605000  51.055000  55.992500  55.170628   2170268400\n",
      "2019-10-01  56.267502  62.437500  53.782501  62.189999  61.277161   2433210800\n",
      "2019-11-01  62.384998  67.000000  62.290001  66.812500  65.831795   1793326000\n",
      "2019-12-01  66.817497  73.492500  64.072502  73.412498  72.552094   2388794800\n",
      "2020-01-01  74.059998  81.962502  73.187500  77.377502  76.470634   2934370400\n",
      "\n",
      "[121 rows x 6 columns]\n"
     ]
    }
   ],
   "source": [
    "import requests\n",
    "import numpy as np\n",
    "import pandas as pd\n",
    "from io import StringIO\n",
    "name=\"AAPL\"\n",
    "url=\"https://query1.finance.yahoo.com/v7/finance/download/\"+name+\"?period1=1262304000&period2=1577923200&interval=1mo&events=history&includeAdjustedClose=true\"\n",
    "response=requests.get(url)\n",
    "table = pd.read_csv(StringIO(response.text),index_col = \"Date\",parse_dates = [\"Date\"])\n",
    "print(table)\n",
    "total_money=1000*12*10"
   ]
  },
  {
   "cell_type": "code",
   "execution_count": 16,
   "metadata": {},
   "outputs": [],
   "source": [
    "def Strategy1():\n",
    "    stock_sum=0\n",
    "    balance=0\n",
    "    for i in table.Close:\n",
    "        this_month_buying=(1000 + balance)//i\n",
    "        balance=(1000+balance)%(i//1)\n",
    "        stock_sum+=this_month_buying\n",
    "\n",
    "    total=table.Close[-1]*stock_sum+balance-total_money\n",
    "    print(\"Strategy1 total:\")\n",
    "    print(total)\n",
    "\n",
    "def Strategy2():\n",
    "    stock_sum=0\n",
    "    balance=0\n",
    "    this_month_buying=1000//table.Close[0]\n",
    "    balance=1000%(table.Close[0]//1)+balance%(table.Close[0]//1)\n",
    "    stock_sum+=this_month_buying\n",
    "    for i in range(1,116):\n",
    "        if(table.Close[i]<table.Close[i-1]):\n",
    "            this_month_buying=(1000 + balance)//table.Close[i]\n",
    "            balance=(1000+balance)%(table.Close[i]//1)\n",
    "            stock_sum+=this_month_buying\n",
    "        else:\n",
    "            this_month_buying=800//table.Close[i]\n",
    "            balance=800%(table.Close[i]//1)+200+balance\n",
    "            stock_sum+=this_month_buying\n",
    "    \n",
    "    for i in range(116,121):\n",
    "        this_month_buying=(1000 + balance)//i\n",
    "        balance=(1000+balance)%(i//1)\n",
    "        stock_sum+=this_month_buying\n",
    "    total=table.Close[-1]*stock_sum+balance-total_money\n",
    "    print(\"Strategy2 total:\")\n",
    "    print(total)"
   ]
  },
  {
   "cell_type": "code",
   "execution_count": 17,
   "metadata": {},
   "outputs": [
    {
     "name": "stdout",
     "output_type": "stream",
     "text": [
      "Strategy1 total:\n",
      "324555.74899000005\n",
      "Strategy2 total:\n",
      "319353.078854\n"
     ]
    }
   ],
   "source": [
    "Strategy1()\n",
    "Strategy2()"
   ]
  },
  {
   "cell_type": "code",
   "execution_count": null,
   "metadata": {},
   "outputs": [],
   "source": []
  },
  {
   "cell_type": "code",
   "execution_count": null,
   "metadata": {},
   "outputs": [],
   "source": []
  }
 ],
 "metadata": {
  "kernelspec": {
   "display_name": "Python 3",
   "language": "python",
   "name": "python3"
  },
  "language_info": {
   "codemirror_mode": {
    "name": "ipython",
    "version": 3
   },
   "file_extension": ".py",
   "mimetype": "text/x-python",
   "name": "python",
   "nbconvert_exporter": "python",
   "pygments_lexer": "ipython3",
   "version": "3.7.4"
  }
 },
 "nbformat": 4,
 "nbformat_minor": 2
}
