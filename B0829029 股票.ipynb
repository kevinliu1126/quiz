{
  "nbformat": 4,
  "nbformat_minor": 0,
  "metadata": {
    "kernelspec": {
      "display_name": "Python 3",
      "language": "python",
      "name": "python3"
    },
    "language_info": {
      "codemirror_mode": {
        "name": "ipython",
        "version": 3
      },
      "file_extension": ".py",
      "mimetype": "text/x-python",
      "name": "python",
      "nbconvert_exporter": "python",
      "pygments_lexer": "ipython3",
      "version": "3.7.4"
    },
    "colab": {
      "name": "B0829029 股票.ipynb",
      "provenance": [],
      "include_colab_link": true
    }
  },
  "cells": [
    {
      "cell_type": "markdown",
      "metadata": {
        "id": "view-in-github",
        "colab_type": "text"
      },
      "source": [
        "<a href=\"https://colab.research.google.com/github/kevinliu1126/quiz/blob/main/B0829029%20%E8%82%A1%E7%A5%A8.ipynb\" target=\"_parent\"><img src=\"https://colab.research.google.com/assets/colab-badge.svg\" alt=\"Open In Colab\"/></a>"
      ]
    },
    {
      "cell_type": "markdown",
      "metadata": {
        "id": "K7YBDjcjGJUj"
      },
      "source": [
        "假設從 2010.01.01 開始，你每個月持續有 USD$1000 資金，\n",
        "(1) 你都不管它，只放在銀行，到了 2020.01.01 你的財產=?\n",
        "(2) 你固定選擇 Apple (AAPL) 公司作為買股票的對象，到了 2020.01.01 你的財產 =?"
      ]
    },
    {
      "cell_type": "code",
      "metadata": {
        "colab": {
          "base_uri": "https://localhost:8080/"
        },
        "id": "nsu6MjQ6GJUj",
        "outputId": "b077d750-583b-4810-ccce-a7bc2ba96da7"
      },
      "source": [
        "#假設年利率為3%\n",
        "bank_total=0\n",
        "for i in range(120):\n",
        "    bank_total=(bank_total+1000)*(1+0.03/12)\n",
        "    \n",
        "print(bank_total)"
      ],
      "execution_count": 1,
      "outputs": [
        {
          "output_type": "stream",
          "text": [
            "140090.77242352368\n"
          ],
          "name": "stdout"
        }
      ]
    },
    {
      "cell_type": "code",
      "metadata": {
        "colab": {
          "base_uri": "https://localhost:8080/"
        },
        "id": "wi1mMxljGJUk",
        "outputId": "8ebd1931-1357-49dd-95a5-0704bffa06fe"
      },
      "source": [
        "import requests\n",
        "import numpy as np\n",
        "import pandas as pd\n",
        "from io import StringIO\n",
        "name=\"AMZN\"\n",
        "url=\"https://query1.finance.yahoo.com/v7/finance/download/\"+name+\"?period1=1262304000&period2=1577923200&interval=1mo&events=history&includeAdjustedClose=true\"\n",
        "response=requests.get(url)\n",
        "table = pd.read_csv(StringIO(response.text),index_col = \"Date\",parse_dates = [\"Date\"])\n",
        "print(table)\n",
        "total_money=1000*12*10"
      ],
      "execution_count": 6,
      "outputs": [
        {
          "output_type": "stream",
          "text": [
            "                   Open         High  ...    Adj Close     Volume\n",
            "Date                                  ...                        \n",
            "2010-01-01   136.250000   136.610001  ...   125.410004  230861000\n",
            "2010-02-01   123.180000   124.860001  ...   118.400002  210145800\n",
            "2010-03-01   118.699997   138.190002  ...   135.770004  158042600\n",
            "2010-04-01   135.800003   151.089996  ...   137.100006  173025100\n",
            "2010-05-01   137.199997   139.440002  ...   125.459999  140909900\n",
            "...                 ...          ...  ...          ...        ...\n",
            "2019-09-01  1770.000000  1853.660034  ...  1735.910034   61172900\n",
            "2019-10-01  1746.000000  1798.849976  ...  1776.660034   70360500\n",
            "2019-11-01  1788.010010  1824.689941  ...  1800.800049   52076200\n",
            "2019-12-01  1804.400024  1901.400024  ...  1847.839966   68149600\n",
            "2020-01-01  1875.000000  2055.719971  ...  2008.719971   84698300\n",
            "\n",
            "[121 rows x 6 columns]\n"
          ],
          "name": "stdout"
        }
      ]
    },
    {
      "cell_type": "code",
      "metadata": {
        "id": "eqRgDZjMGJUl"
      },
      "source": [
        "def Strategy1():\n",
        "    stock_sum=0\n",
        "    balance=0\n",
        "    for i in table.Close:\n",
        "        this_month_buying=(1000 + balance)//i\n",
        "        balance=(1000+balance)%(i//1)\n",
        "        stock_sum+=this_month_buying\n",
        "\n",
        "    total=table.Close[-1]*stock_sum+balance\n",
        "    print(\"Strategy1 total:\")\n",
        "    print(total)\n",
        "\n",
        "def Strategy2():\n",
        "    stock_sum=0\n",
        "    balance=0\n",
        "    this_month_buying=1000//table.Close[0]\n",
        "    balance=1000%(table.Close[0]//1)+balance%(table.Close[0]//1)\n",
        "    stock_sum+=this_month_buying\n",
        "    for i in range(1,116):\n",
        "        if(table.Close[i]<table.Close[i-1]):\n",
        "            this_month_buying=(1000 + balance)//table.Close[i]\n",
        "            balance=(1000+balance)%(table.Close[i]//1)\n",
        "            stock_sum+=this_month_buying\n",
        "        else:\n",
        "            this_month_buying=800//table.Close[i]\n",
        "            balance=800%(table.Close[i]//1)+200+balance\n",
        "            stock_sum+=this_month_buying\n",
        "    \n",
        "    for i in range(116,121):\n",
        "        this_month_buying=(1000 + balance)//i\n",
        "        balance=(1000+balance)%(i//1)\n",
        "        stock_sum+=this_month_buying\n",
        "    total=table.Close[-1]*stock_sum+balance\n",
        "    print(\"Strategy2 total:\")\n",
        "    print(total)"
      ],
      "execution_count": 9,
      "outputs": []
    },
    {
      "cell_type": "code",
      "metadata": {
        "colab": {
          "base_uri": "https://localhost:8080/"
        },
        "id": "xgaZpTCiGJUl",
        "outputId": "d38a8d9c-7159-435b-bb6a-c8e69b0c076b"
      },
      "source": [
        "Strategy1()\n",
        "Strategy2()"
      ],
      "execution_count": 10,
      "outputs": [
        {
          "output_type": "stream",
          "text": [
            "Strategy1 total:\n",
            "700444.549908\n",
            "Strategy2 total:\n",
            "791487.668574\n"
          ],
          "name": "stdout"
        }
      ]
    },
    {
      "cell_type": "code",
      "metadata": {
        "id": "A3TT4PCsGJUm"
      },
      "source": [
        ""
      ],
      "execution_count": null,
      "outputs": []
    },
    {
      "cell_type": "code",
      "metadata": {
        "id": "Jb5tidQkGJUm"
      },
      "source": [
        ""
      ],
      "execution_count": null,
      "outputs": []
    }
  ]
}